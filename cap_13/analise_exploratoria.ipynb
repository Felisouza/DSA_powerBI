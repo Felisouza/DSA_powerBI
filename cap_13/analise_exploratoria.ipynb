{
 "cells": [
  {
   "attachments": {},
   "cell_type": "markdown",
   "metadata": {},
   "source": [
    "# Libs"
   ]
  },
  {
   "cell_type": "code",
   "execution_count": 1,
   "metadata": {},
   "outputs": [],
   "source": [
    "import pandas as pd"
   ]
  },
  {
   "attachments": {},
   "cell_type": "markdown",
   "metadata": {},
   "source": [
    "# Data"
   ]
  },
  {
   "cell_type": "code",
   "execution_count": 2,
   "metadata": {},
   "outputs": [
    {
     "data": {
      "text/html": [
       "<div>\n",
       "<style scoped>\n",
       "    .dataframe tbody tr th:only-of-type {\n",
       "        vertical-align: middle;\n",
       "    }\n",
       "\n",
       "    .dataframe tbody tr th {\n",
       "        vertical-align: top;\n",
       "    }\n",
       "\n",
       "    .dataframe thead th {\n",
       "        text-align: right;\n",
       "    }\n",
       "</style>\n",
       "<table border=\"1\" class=\"dataframe\">\n",
       "  <thead>\n",
       "    <tr style=\"text-align: right;\">\n",
       "      <th></th>\n",
       "      <th>ID_Cliente</th>\n",
       "      <th>Idade</th>\n",
       "      <th>Peso</th>\n",
       "      <th>Altura</th>\n",
       "      <th>Estado Civil</th>\n",
       "      <th>Estado</th>\n",
       "      <th>Limite de Credito</th>\n",
       "      <th>Valor Desconto</th>\n",
       "      <th>Valor Compra</th>\n",
       "      <th>Tipo de Cliente</th>\n",
       "    </tr>\n",
       "  </thead>\n",
       "  <tbody>\n",
       "    <tr>\n",
       "      <th>0</th>\n",
       "      <td>CCIW152</td>\n",
       "      <td>?</td>\n",
       "      <td>65</td>\n",
       "      <td>173</td>\n",
       "      <td>Solteiro</td>\n",
       "      <td>RS</td>\n",
       "      <td>4362</td>\n",
       "      <td>16</td>\n",
       "      <td>3112</td>\n",
       "      <td>Bronze</td>\n",
       "    </tr>\n",
       "    <tr>\n",
       "      <th>1</th>\n",
       "      <td>LVSS431</td>\n",
       "      <td>?</td>\n",
       "      <td>61</td>\n",
       "      <td>166</td>\n",
       "      <td>Casado</td>\n",
       "      <td>RJ</td>\n",
       "      <td>8773</td>\n",
       "      <td>28</td>\n",
       "      <td>892</td>\n",
       "      <td>Ouro</td>\n",
       "    </tr>\n",
       "    <tr>\n",
       "      <th>2</th>\n",
       "      <td>VUNL154</td>\n",
       "      <td>45</td>\n",
       "      <td>61</td>\n",
       "      <td>162</td>\n",
       "      <td>Viúvo</td>\n",
       "      <td>RS</td>\n",
       "      <td>6816</td>\n",
       "      <td>99</td>\n",
       "      <td>4201</td>\n",
       "      <td>Prata</td>\n",
       "    </tr>\n",
       "    <tr>\n",
       "      <th>3</th>\n",
       "      <td>JAKQ206</td>\n",
       "      <td>30</td>\n",
       "      <td>60</td>\n",
       "      <td>171</td>\n",
       "      <td>Divorciado</td>\n",
       "      <td>SP</td>\n",
       "      <td>1697</td>\n",
       "      <td>47</td>\n",
       "      <td>1780</td>\n",
       "      <td>Bronze</td>\n",
       "    </tr>\n",
       "    <tr>\n",
       "      <th>4</th>\n",
       "      <td>EPFC681</td>\n",
       "      <td>49</td>\n",
       "      <td>72</td>\n",
       "      <td>176</td>\n",
       "      <td>Viúvo</td>\n",
       "      <td>RJ</td>\n",
       "      <td>6231</td>\n",
       "      <td>77</td>\n",
       "      <td>2954</td>\n",
       "      <td>Bronze</td>\n",
       "    </tr>\n",
       "  </tbody>\n",
       "</table>\n",
       "</div>"
      ],
      "text/plain": [
       "  ID_Cliente Idade  Peso  Altura Estado Civil Estado  Limite de Credito   \n",
       "0    CCIW152     ?    65     173     Solteiro     RS               4362  \\\n",
       "1    LVSS431     ?    61     166       Casado     RJ               8773   \n",
       "2    VUNL154    45    61     162        Viúvo     RS               6816   \n",
       "3    JAKQ206    30    60     171   Divorciado     SP               1697   \n",
       "4    EPFC681    49    72     176        Viúvo     RJ               6231   \n",
       "\n",
       "   Valor Desconto  Valor Compra Tipo de Cliente  \n",
       "0              16          3112          Bronze  \n",
       "1              28           892            Ouro  \n",
       "2              99          4201           Prata  \n",
       "3              47          1780          Bronze  \n",
       "4              77          2954          Bronze  "
      ]
     },
     "execution_count": 2,
     "metadata": {},
     "output_type": "execute_result"
    }
   ],
   "source": [
    "df = pd.read_csv(r'C:\\Users\\feh_s\\DSA_powerBI\\DSA_powerBI\\cap_13\\data\\Clientes.csv')\n",
    "df.head()"
   ]
  },
  {
   "attachments": {},
   "cell_type": "markdown",
   "metadata": {},
   "source": [
    "# Análise descritiva"
   ]
  },
  {
   "cell_type": "code",
   "execution_count": 3,
   "metadata": {},
   "outputs": [
    {
     "name": "stdout",
     "output_type": "stream",
     "text": [
      "<class 'pandas.core.frame.DataFrame'>\n",
      "RangeIndex: 500 entries, 0 to 499\n",
      "Data columns (total 10 columns):\n",
      " #   Column             Non-Null Count  Dtype \n",
      "---  ------             --------------  ----- \n",
      " 0   ID_Cliente         500 non-null    object\n",
      " 1   Idade              500 non-null    object\n",
      " 2   Peso               500 non-null    int64 \n",
      " 3   Altura             500 non-null    int64 \n",
      " 4   Estado Civil       500 non-null    object\n",
      " 5   Estado             500 non-null    object\n",
      " 6   Limite de Credito  500 non-null    int64 \n",
      " 7   Valor Desconto     500 non-null    int64 \n",
      " 8   Valor Compra       500 non-null    int64 \n",
      " 9   Tipo de Cliente    500 non-null    object\n",
      "dtypes: int64(5), object(5)\n",
      "memory usage: 39.2+ KB\n"
     ]
    }
   ],
   "source": [
    "df.info()"
   ]
  },
  {
   "cell_type": "code",
   "execution_count": 4,
   "metadata": {},
   "outputs": [
    {
     "data": {
      "text/plain": [
       "array(['?', '45', '30', '49', '44', '52', '37', '59', '36', '47', '46',\n",
       "       '31', '40', '34', '56', '29', '39', '28', '35', '53', '42', '60',\n",
       "       '48', '26', '50', '27', '38', '41', '54', '32', '55', '25', '33',\n",
       "       '24', '23', '43', '51', '20', '21', '10', '16', '57', '62', '19',\n",
       "       '17', '61', '68', '64', '58', '67', '70', '18', '22'], dtype=object)"
      ]
     },
     "execution_count": 4,
     "metadata": {},
     "output_type": "execute_result"
    }
   ],
   "source": []
  }
 ],
 "metadata": {
  "kernelspec": {
   "display_name": "my_env",
   "language": "python",
   "name": "python3"
  },
  "language_info": {
   "codemirror_mode": {
    "name": "ipython",
    "version": 3
   },
   "file_extension": ".py",
   "mimetype": "text/x-python",
   "name": "python",
   "nbconvert_exporter": "python",
   "pygments_lexer": "ipython3",
   "version": "3.10.9"
  },
  "orig_nbformat": 4
 },
 "nbformat": 4,
 "nbformat_minor": 2
}
