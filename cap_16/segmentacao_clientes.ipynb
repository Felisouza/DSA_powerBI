{
 "cells": [
  {
   "attachments": {},
   "cell_type": "markdown",
   "metadata": {},
   "source": [
    "# Libs"
   ]
  },
  {
   "cell_type": "code",
   "execution_count": 1,
   "metadata": {},
   "outputs": [],
   "source": [
    "import pandas as pd\n",
    "import numpy as np\n",
    "import matplotlib.pyplot as plt\n",
    "import seaborn as sns\n",
    "from sklearn.preprocessing import StandardScaler"
   ]
  },
  {
   "attachments": {},
   "cell_type": "markdown",
   "metadata": {},
   "source": [
    "# Import data"
   ]
  },
  {
   "cell_type": "code",
   "execution_count": 2,
   "metadata": {},
   "outputs": [],
   "source": [
    "df = pd.read_csv(r'C:\\Users\\feh_s\\DSA_powerBI\\DSA_powerBI\\cap_16\\dados\\dados_clientes.csv')"
   ]
  },
  {
   "cell_type": "code",
   "execution_count": 3,
   "metadata": {},
   "outputs": [
    {
     "data": {
      "text/html": [
       "<div>\n",
       "<style scoped>\n",
       "    .dataframe tbody tr th:only-of-type {\n",
       "        vertical-align: middle;\n",
       "    }\n",
       "\n",
       "    .dataframe tbody tr th {\n",
       "        vertical-align: top;\n",
       "    }\n",
       "\n",
       "    .dataframe thead th {\n",
       "        text-align: right;\n",
       "    }\n",
       "</style>\n",
       "<table border=\"1\" class=\"dataframe\">\n",
       "  <thead>\n",
       "    <tr style=\"text-align: right;\">\n",
       "      <th></th>\n",
       "      <th>id</th>\n",
       "      <th>idade</th>\n",
       "      <th>renda_anual</th>\n",
       "      <th>pontuacao_gastos</th>\n",
       "    </tr>\n",
       "  </thead>\n",
       "  <tbody>\n",
       "    <tr>\n",
       "      <th>0</th>\n",
       "      <td>1</td>\n",
       "      <td>56</td>\n",
       "      <td>94740</td>\n",
       "      <td>90</td>\n",
       "    </tr>\n",
       "    <tr>\n",
       "      <th>1</th>\n",
       "      <td>2</td>\n",
       "      <td>69</td>\n",
       "      <td>136352</td>\n",
       "      <td>50</td>\n",
       "    </tr>\n",
       "    <tr>\n",
       "      <th>2</th>\n",
       "      <td>3</td>\n",
       "      <td>46</td>\n",
       "      <td>86617</td>\n",
       "      <td>62</td>\n",
       "    </tr>\n",
       "    <tr>\n",
       "      <th>3</th>\n",
       "      <td>4</td>\n",
       "      <td>32</td>\n",
       "      <td>114841</td>\n",
       "      <td>97</td>\n",
       "    </tr>\n",
       "    <tr>\n",
       "      <th>4</th>\n",
       "      <td>5</td>\n",
       "      <td>60</td>\n",
       "      <td>36896</td>\n",
       "      <td>51</td>\n",
       "    </tr>\n",
       "  </tbody>\n",
       "</table>\n",
       "</div>"
      ],
      "text/plain": [
       "   id  idade  renda_anual  pontuacao_gastos\n",
       "0   1     56        94740                90\n",
       "1   2     69       136352                50\n",
       "2   3     46        86617                62\n",
       "3   4     32       114841                97\n",
       "4   5     60        36896                51"
      ]
     },
     "execution_count": 3,
     "metadata": {},
     "output_type": "execute_result"
    }
   ],
   "source": [
    "df.head()"
   ]
  },
  {
   "attachments": {},
   "cell_type": "markdown",
   "metadata": {},
   "source": [
    "# Análise descritiva"
   ]
  },
  {
   "cell_type": "code",
   "execution_count": 4,
   "metadata": {},
   "outputs": [
    {
     "name": "stdout",
     "output_type": "stream",
     "text": [
      "<class 'pandas.core.frame.DataFrame'>\n",
      "RangeIndex: 500 entries, 0 to 499\n",
      "Data columns (total 4 columns):\n",
      " #   Column            Non-Null Count  Dtype\n",
      "---  ------            --------------  -----\n",
      " 0   id                500 non-null    int64\n",
      " 1   idade             500 non-null    int64\n",
      " 2   renda_anual       500 non-null    int64\n",
      " 3   pontuacao_gastos  500 non-null    int64\n",
      "dtypes: int64(4)\n",
      "memory usage: 15.8 KB\n"
     ]
    }
   ],
   "source": [
    "df.info()"
   ]
  },
  {
   "cell_type": "code",
   "execution_count": 5,
   "metadata": {},
   "outputs": [
    {
     "data": {
      "text/html": [
       "<div>\n",
       "<style scoped>\n",
       "    .dataframe tbody tr th:only-of-type {\n",
       "        vertical-align: middle;\n",
       "    }\n",
       "\n",
       "    .dataframe tbody tr th {\n",
       "        vertical-align: top;\n",
       "    }\n",
       "\n",
       "    .dataframe thead th {\n",
       "        text-align: right;\n",
       "    }\n",
       "</style>\n",
       "<table border=\"1\" class=\"dataframe\">\n",
       "  <thead>\n",
       "    <tr style=\"text-align: right;\">\n",
       "      <th></th>\n",
       "      <th>id</th>\n",
       "      <th>idade</th>\n",
       "      <th>renda_anual</th>\n",
       "      <th>pontuacao_gastos</th>\n",
       "    </tr>\n",
       "  </thead>\n",
       "  <tbody>\n",
       "    <tr>\n",
       "      <th>count</th>\n",
       "      <td>500.000000</td>\n",
       "      <td>500.000000</td>\n",
       "      <td>500.000000</td>\n",
       "      <td>500.000000</td>\n",
       "    </tr>\n",
       "    <tr>\n",
       "      <th>mean</th>\n",
       "      <td>250.500000</td>\n",
       "      <td>44.732000</td>\n",
       "      <td>81557.166000</td>\n",
       "      <td>48.512000</td>\n",
       "    </tr>\n",
       "    <tr>\n",
       "      <th>std</th>\n",
       "      <td>144.481833</td>\n",
       "      <td>15.239707</td>\n",
       "      <td>36764.379945</td>\n",
       "      <td>29.556946</td>\n",
       "    </tr>\n",
       "    <tr>\n",
       "      <th>min</th>\n",
       "      <td>1.000000</td>\n",
       "      <td>18.000000</td>\n",
       "      <td>20384.000000</td>\n",
       "      <td>0.000000</td>\n",
       "    </tr>\n",
       "    <tr>\n",
       "      <th>25%</th>\n",
       "      <td>125.750000</td>\n",
       "      <td>32.000000</td>\n",
       "      <td>49172.750000</td>\n",
       "      <td>24.000000</td>\n",
       "    </tr>\n",
       "    <tr>\n",
       "      <th>50%</th>\n",
       "      <td>250.500000</td>\n",
       "      <td>45.000000</td>\n",
       "      <td>79219.000000</td>\n",
       "      <td>48.500000</td>\n",
       "    </tr>\n",
       "    <tr>\n",
       "      <th>75%</th>\n",
       "      <td>375.250000</td>\n",
       "      <td>57.000000</td>\n",
       "      <td>113017.250000</td>\n",
       "      <td>73.250000</td>\n",
       "    </tr>\n",
       "    <tr>\n",
       "      <th>max</th>\n",
       "      <td>500.000000</td>\n",
       "      <td>70.000000</td>\n",
       "      <td>149695.000000</td>\n",
       "      <td>100.000000</td>\n",
       "    </tr>\n",
       "  </tbody>\n",
       "</table>\n",
       "</div>"
      ],
      "text/plain": [
       "               id       idade    renda_anual  pontuacao_gastos\n",
       "count  500.000000  500.000000     500.000000        500.000000\n",
       "mean   250.500000   44.732000   81557.166000         48.512000\n",
       "std    144.481833   15.239707   36764.379945         29.556946\n",
       "min      1.000000   18.000000   20384.000000          0.000000\n",
       "25%    125.750000   32.000000   49172.750000         24.000000\n",
       "50%    250.500000   45.000000   79219.000000         48.500000\n",
       "75%    375.250000   57.000000  113017.250000         73.250000\n",
       "max    500.000000   70.000000  149695.000000        100.000000"
      ]
     },
     "execution_count": 5,
     "metadata": {},
     "output_type": "execute_result"
    }
   ],
   "source": [
    "df.describe()"
   ]
  },
  {
   "attachments": {},
   "cell_type": "markdown",
   "metadata": {},
   "source": [
    "# Dispersão dos dados"
   ]
  },
  {
   "cell_type": "code",
   "execution_count": 6,
   "metadata": {},
   "outputs": [
    {
     "name": "stderr",
     "output_type": "stream",
     "text": [
      "c:\\Users\\feh_s\\DSA_powerBI\\DSA_powerBI\\my_env\\Lib\\site-packages\\seaborn\\axisgrid.py:118: UserWarning: The figure layout has changed to tight\n",
      "  self._figure.tight_layout(*args, **kwargs)\n"
     ]
    },
    {
     "data": {
      "text/plain": [
       "<seaborn.axisgrid.PairGrid at 0x274063628d0>"
      ]
     },
     "execution_count": 6,
     "metadata": {},
     "output_type": "execute_result"
    },
    {
     "data": {
      "image/png": "[encoded data removed]",
      "text/plain": [
       "<Figure size 637.611x500 with 6 Axes>"
      ]
     },
     "metadata": {},
     "output_type": "display_data"
    }
   ],
   "source": [
    "sns.pairplot(df[['idade', 'renda_anual', 'pontuacao_gastos']], hue=\"pontuacao_gastos\")"
   ]
  },
  {
   "cell_type": "markdown",
   "metadata": {},
   "source": [
    "# Dados"
   ]
  },
  {
   "cell_type": "code",
   "execution_count": 7,
   "metadata": {},
   "outputs": [
    {
     "data": {
      "text/plain": [
       "array([[    56,  94740],\n",
       "       [    69, 136352],\n",
       "       [    46,  86617],\n",
       "       [    32, 114841],\n",
       "       [    60,  36896],\n",
       "       [    25, 145729],\n",
       "       [    38,  66175],\n",
       "       [    56,  27805],\n",
       "       [    36,  25237],\n",
       "       [    40, 135247],\n",
       "       [    28,  40056],\n",
       "       [    28,  65543],\n",
       "       [    41,  76556],\n",
       "       [    70, 134548],\n",
       "       [    53, 131488],\n",
       "       [    57,  23343],\n",
       "       [    41,  33500],\n",
       "       [    20,  73222],\n",
       "       [    39,  49375],\n",
       "       [    70,  29662],\n",
       "       [    19,  36964],\n",
       "       [    41, 133429],\n",
       "       [    61, 141692],\n",
       "       [    47,  79638],\n",
       "       [    55,  93666],\n",
       "       [    19, 105067],\n",
       "       [    38, 138937],\n",
       "       [    50,  87215],\n",
       "       [    29,  89042],\n",
       "       [    39,  33284],\n",
       "       [    61,  92789],\n",
       "       [    42, 104664],\n",
       "       [    66, 113468],\n",
       "       [    44,  81389],\n",
       "       [    59,  29435],\n",
       "       [    45,  74340],\n",
       "       [    33,  64078],\n",
       "       [    32,  98832],\n",
       "       [    64,  71293],\n",
       "       [    68, 115981],\n",
       "       [    61,  98781],\n",
       "       [    69,  80403],\n",
       "       [    20,  49124],\n",
       "       [    54, 115435],\n",
       "       [    68,  63919],\n",
       "       [    24, 128761],\n",
       "       [    38, 141305],\n",
       "       [    26,  55247],\n",
       "       [    56, 141172],\n",
       "       [    35, 114758],\n",
       "       [    21, 111747],\n",
       "       [    42,  82752],\n",
       "       [    31,  76573],\n",
       "       [    67,  79101],\n",
       "       [    26, 122756],\n",
       "       [    43,  46646],\n",
       "       [    70, 124185],\n",
       "       [    19,  43049],\n",
       "       [    37,  99605],\n",
       "       [    45, 118116],\n",
       "       [    64, 117379],\n",
       "       [    24,  88385],\n",
       "       [    61, 146131],\n",
       "       [    25,  60158],\n",
       "       [    64,  85417],\n",
       "       [    52,  43289],\n",
       "       [    31, 130226],\n",
       "       [    34, 120793],\n",
       "       [    53,  29823],\n",
       "       [    67,  80160],\n",
       "       [    57,  61975],\n",
       "       [    21,  29540],\n",
       "       [    19,  36364],\n",
       "       [    23,  24611],\n",
       "       [    59,  47663],\n",
       "       [    21,  71991],\n",
       "       [    46,  77679],\n",
       "       [    35, 124182],\n",
       "       [    43,  50977],\n",
       "       [    61, 114704],\n",
       "       [    51,  69115],\n",
       "       [    27, 111007],\n",
       "       [    53, 108223],\n",
       "       [    31,  80890],\n",
       "       [    48,  86387],\n",
       "       [    65,  38071],\n",
       "       [    32,  79275],\n",
       "       [    25,  92369],\n",
       "       [    31,  31938],\n",
       "       [    40,  55195],\n",
       "       [    57, 111680],\n",
       "       [    38,  24000],\n",
       "       [    33,  90588],\n",
       "       [    62, 121042],\n",
       "       [    35, 113610],\n",
       "       [    64, 140420],\n",
       "       [    70, 123691],\n",
       "       [    41, 126306],\n",
       "       [    43, 117856],\n",
       "       [    42,  58304],\n",
       "       [    62, 131783],\n",
       "       [    58,  89449],\n",
       "       [    46, 102986],\n",
       "       [    32, 109643],\n",
       "       [    62,  40764],\n",
       "       [    18, 128940],\n",
       "       [    42, 106027],\n",
       "       [    24,  58494],\n",
       "       [    26,  23373],\n",
       "       [    41,  32161],\n",
       "       [    18, 117532],\n",
       "       [    61, 112658],\n",
       "       [    25, 143633],\n",
       "       [    41, 120386],\n",
       "       [    28,  47350],\n",
       "       [    68, 113008],\n",
       "       [    34, 114297],\n",
       "       [    25,  45351],\n",
       "       [    52, 108668],\n",
       "       [    52, 134585],\n",
       "       [    50,  35305],\n",
       "       [    22,  95353],\n",
       "       [    59,  96797],\n",
       "       [    56,  85953],\n",
       "       [    58,  77458],\n",
       "       [    45, 127112],\n",
       "       [    24,  40358],\n",
       "       [    26,  23267],\n",
       "       [    25, 102745],\n",
       "       [    29, 109588],\n",
       "       [    51,  58513],\n",
       "       [    50,  46092],\n",
       "       [    65,  31338],\n",
       "       [    40,  20412],\n",
       "       [    41,  27543],\n",
       "       [    54, 125891],\n",
       "       [    52,  53496],\n",
       "       [    61,  80692],\n",
       "       [    57, 109084],\n",
       "       [    39, 112920],\n",
       "       [    44, 143555],\n",
       "       [    52,  64425],\n",
       "       [    18,  58756],\n",
       "       [    52,  38888],\n",
       "       [    54,  55735],\n",
       "       [    64,  67295],\n",
       "       [    31, 137474],\n",
       "       [    20, 134352],\n",
       "       [    18, 103042],\n",
       "       [    22, 105999],\n",
       "       [    43,  37955],\n",
       "       [    31,  57841],\n",
       "       [    56,  90640],\n",
       "       [    44,  85510],\n",
       "       [    26,  54911],\n",
       "       [    32,  79031],\n",
       "       [    32, 108726],\n",
       "       [    43,  27357],\n",
       "       [    59,  52479],\n",
       "       [    30,  81476],\n",
       "       [    68,  64811],\n",
       "       [    49,  56208],\n",
       "       [    56,  40150],\n",
       "       [    66,  91180],\n",
       "       [    69,  63286],\n",
       "       [    49, 132856],\n",
       "       [    21,  88450],\n",
       "       [    47,  41352],\n",
       "       [    54,  75069],\n",
       "       [    40, 131888],\n",
       "       [    56, 130448],\n",
       "       [    62,  34397],\n",
       "       [    32,  61555],\n",
       "       [    60,  66959],\n",
       "       [    46,  20728],\n",
       "       [    53,  70517],\n",
       "       [    30, 139180],\n",
       "       [    49,  86234],\n",
       "       [    24,  59954],\n",
       "       [    68,  67280],\n",
       "       [    39,  99459],\n",
       "       [    45,  36779],\n",
       "       [    19,  83932],\n",
       "       [    59,  92936],\n",
       "       [    62,  44466],\n",
       "       [    70,  56939],\n",
       "       [    23,  89896],\n",
       "       [    45,  55270],\n",
       "       [    45,  79163],\n",
       "       [    61, 102637],\n",
       "       [    61,  71934],\n",
       "       [    37,  84895],\n",
       "       [    47,  52307],\n",
       "       [    28,  74098],\n",
       "       [    45,  80921],\n",
       "       [    42,  25486],\n",
       "       [    56,  28335],\n",
       "       [    50, 106900],\n",
       "       [    18, 146020],\n",
       "       [    44, 141954],\n",
       "       [    69, 122795],\n",
       "       [    30, 109112],\n",
       "       [    58, 117203],\n",
       "       [    20,  31130],\n",
       "       [    56, 107508],\n",
       "       [    23, 125955],\n",
       "       [    25, 138324],\n",
       "       [    44,  80566],\n",
       "       [    26,  86703],\n",
       "       [    54,  47192],\n",
       "       [    50,  21062],\n",
       "       [    68, 104076],\n",
       "       [    59, 109780],\n",
       "       [    61,  41545],\n",
       "       [    41,  41689],\n",
       "       [    32,  31174],\n",
       "       [    49, 108461],\n",
       "       [    49, 146174],\n",
       "       [    41, 123033],\n",
       "       [    58,  29348],\n",
       "       [    69,  43714],\n",
       "       [    66,  58102],\n",
       "       [    66,  94460],\n",
       "       [    69, 122634],\n",
       "       [    29, 109930],\n",
       "       [    56,  26801],\n",
       "       [    19, 123150],\n",
       "       [    20,  92267],\n",
       "       [    66,  68136],\n",
       "       [    54,  43625],\n",
       "       [    66, 102873],\n",
       "       [    34, 120843],\n",
       "       [    66,  92592],\n",
       "       [    19,  97052],\n",
       "       [    19,  64261],\n",
       "       [    45,  21542],\n",
       "       [    40,  41677],\n",
       "       [    54,  66732],\n",
       "       [    49,  70343],\n",
       "       [    50,  59081],\n",
       "       [    18,  82856],\n",
       "       [    36, 113105],\n",
       "       [    19, 108858],\n",
       "       [    70,  39065],\n",
       "       [    61, 144097],\n",
       "       [    43, 103460],\n",
       "       [    49, 108092],\n",
       "       [    23, 146116],\n",
       "       [    49,  74693],\n",
       "       [    21,  46962],\n",
       "       [    28,  48295],\n",
       "       [    34,  33807],\n",
       "       [    55,  62348],\n",
       "       [    41,  46432],\n",
       "       [    22, 103285],\n",
       "       [    69, 126995],\n",
       "       [    51, 111792],\n",
       "       [    23,  77854],\n",
       "       [    39,  60262],\n",
       "       [    28,  57080],\n",
       "       [    65,  21324],\n",
       "       [    33, 111267],\n",
       "       [    50, 144707],\n",
       "       [    26,  55909],\n",
       "       [    23, 109339],\n",
       "       [    33,  39870],\n",
       "       [    46,  54578],\n",
       "       [    20,  92124],\n",
       "       [    37, 137611],\n",
       "       [    53, 123605],\n",
       "       [    36,  46790],\n",
       "       [    43, 138874],\n",
       "       [    20,  45289],\n",
       "       [    36,  75129],\n",
       "       [    37, 113714],\n",
       "       [    49, 114246],\n",
       "       [    24,  35485],\n",
       "       [    69,  64482],\n",
       "       [    58, 106188],\n",
       "       [    50,  24748],\n",
       "       [    57, 106769],\n",
       "       [    56,  29435],\n",
       "       [    35,  23709],\n",
       "       [    57, 143961],\n",
       "       [    18,  50355],\n",
       "       [    28,  75771],\n",
       "       [    45,  77799],\n",
       "       [    42,  33116],\n",
       "       [    67,  45470],\n",
       "       [    40,  62344],\n",
       "       [    48,  62918],\n",
       "       [    47,  72224],\n",
       "       [    59,  59298],\n",
       "       [    52, 128492],\n",
       "       [    24, 100219],\n",
       "       [    33,  81629],\n",
       "       [    43,  86040],\n",
       "       [    65, 119518],\n",
       "       [    69, 119835],\n",
       "       [    66,  48016],\n",
       "       [    19,  43960],\n",
       "       [    18,  53591],\n",
       "       [    65, 102848],\n",
       "       [    29, 123333],\n",
       "       [    22, 131732],\n",
       "       [    54, 134821],\n",
       "       [    49,  87641],\n",
       "       [    26,  56395],\n",
       "       [    58, 131276],\n",
       "       [    52, 149695],\n",
       "       [    36,  42700],\n",
       "       [    65,  54620],\n",
       "       [    33, 123214],\n",
       "       [    20, 148148],\n",
       "       [    37,  40559],\n",
       "       [    41, 113045],\n",
       "       [    50, 113396],\n",
       "       [    41,  81642],\n",
       "       [    69,  96539],\n",
       "       [    28,  41732],\n",
       "       [    66, 148675],\n",
       "       [    25, 111362],\n",
       "       [    53,  50354],\n",
       "       [    55,  33843],\n",
       "       [    57, 130008],\n",
       "       [    37, 134065],\n",
       "       [    52,  91726],\n",
       "       [    65,  37640],\n",
       "       [    42,  72528],\n",
       "       [    52,  58413],\n",
       "       [    42, 148142],\n",
       "       [    46,  72638],\n",
       "       [    35,  72736],\n",
       "       [    63, 127892],\n",
       "       [    35, 130133],\n",
       "       [    19, 126357],\n",
       "       [    52,  88866],\n",
       "       [    33,  39087],\n",
       "       [    58,  61430],\n",
       "       [    53,  44504],\n",
       "       [    50,  27114],\n",
       "       [    21,  98859],\n",
       "       [    50, 119657],\n",
       "       [    31,  30975],\n",
       "       [    38,  31023],\n",
       "       [    65,  41447],\n",
       "       [    37, 110469],\n",
       "       [    25, 145899],\n",
       "       [    24,  43959],\n",
       "       [    20,  86203],\n",
       "       [    34, 139156],\n",
       "       [    50,  49703],\n",
       "       [    65,  29337],\n",
       "       [    29,  66427],\n",
       "       [    68, 141507],\n",
       "       [    39,  81529],\n",
       "       [    39, 122023],\n",
       "       [    63, 104665],\n",
       "       [    47, 125787],\n",
       "       [    55,  51921],\n",
       "       [    55,  53307],\n",
       "       [    62,  47355],\n",
       "       [    68, 123268],\n",
       "       [    25, 147016],\n",
       "       [    44,  24835],\n",
       "       [    44,  40159],\n",
       "       [    51, 124346],\n",
       "       [    38,  67605],\n",
       "       [    47, 141790],\n",
       "       [    50, 125616],\n",
       "       [    45,  58088],\n",
       "       [    64,  98752],\n",
       "       [    50,  75284],\n",
       "       [    22,  77043],\n",
       "       [    65, 145388],\n",
       "       [    36,  55547],\n",
       "       [    21, 117007],\n",
       "       [    52, 102844],\n",
       "       [    66,  47532],\n",
       "       [    34,  54349],\n",
       "       [    61, 142402],\n",
       "       [    45, 138012],\n",
       "       [    47,  65445],\n",
       "       [    46,  25713],\n",
       "       [    63,  76178],\n",
       "       [    70,  69407],\n",
       "       [    23,  90340],\n",
       "       [    52,  70990],\n",
       "       [    58,  95672],\n",
       "       [    54, 149473],\n",
       "       [    41,  85545],\n",
       "       [    46, 104791],\n",
       "       [    66,  78141],\n",
       "       [    63,  43793],\n",
       "       [    70,  76570],\n",
       "       [    48, 115084],\n",
       "       [    52,  57892],\n",
       "       [    50,  21015],\n",
       "       [    69, 144704],\n",
       "       [    38,  81813],\n",
       "       [    49,  47712],\n",
       "       [    40, 120497],\n",
       "       [    50,  28415],\n",
       "       [    20, 131854],\n",
       "       [    35, 132816],\n",
       "       [    42, 148778],\n",
       "       [    59,  82292],\n",
       "       [    48,  43833],\n",
       "       [    20,  24158],\n",
       "       [    57,  82680],\n",
       "       [    63,  40309],\n",
       "       [    41,  26970],\n",
       "       [    67,  92474],\n",
       "       [    49, 106704],\n",
       "       [    64,  66540],\n",
       "       [    39,  40384],\n",
       "       [    40,  38017],\n",
       "       [    19,  95880],\n",
       "       [    44, 125570],\n",
       "       [    59,  28702],\n",
       "       [    19,  20384],\n",
       "       [    43,  20404],\n",
       "       [    34,  60943],\n",
       "       [    57,  67926],\n",
       "       [    50,  49189],\n",
       "       [    26,  32763],\n",
       "       [    60,  38384],\n",
       "       [    65,  80100],\n",
       "       [    56, 118142],\n",
       "       [    46,  29860],\n",
       "       [    59, 124293],\n",
       "       [    43, 100642],\n",
       "       [    52,  70612],\n",
       "       [    67,  43574],\n",
       "       [    42,  43524],\n",
       "       [    41,  89172],\n",
       "       [    30,  30916],\n",
       "       [    24,  24809],\n",
       "       [    53,  52201],\n",
       "       [    62,  73330],\n",
       "       [    37,  33456],\n",
       "       [    18, 133748],\n",
       "       [    25,  76397],\n",
       "       [    63, 141288],\n",
       "       [    33,  58765],\n",
       "       [    31,  54816],\n",
       "       [    29,  65106],\n",
       "       [    68,  73932],\n",
       "       [    40,  37100],\n",
       "       [    32,  77091],\n",
       "       [    45,  41949],\n",
       "       [    51,  90080],\n",
       "       [    19,  57744],\n",
       "       [    49,  65543],\n",
       "       [    40, 128319],\n",
       "       [    39, 112193],\n",
       "       [    68,  56187],\n",
       "       [    42, 132734],\n",
       "       [    39,  27239],\n",
       "       [    39, 144454],\n",
       "       [    66,  34489],\n",
       "       [    69, 134937],\n",
       "       [    59,  78017],\n",
       "       [    23,  81877],\n",
       "       [    32,  63125],\n",
       "       [    60,  69922],\n",
       "       [    54, 114074],\n",
       "       [    50,  52049],\n",
       "       [    25,  57131],\n",
       "       [    70,  62944],\n",
       "       [    61, 135765],\n",
       "       [    61,  93963],\n",
       "       [    22, 126884],\n",
       "       [    56, 145917],\n",
       "       [    21,  44285],\n",
       "       [    23,  57626],\n",
       "       [    62,  62808],\n",
       "       [    49, 108464],\n",
       "       [    69,  73871],\n",
       "       [    47,  39198],\n",
       "       [    64,  39758],\n",
       "       [    52,  35254],\n",
       "       [    57,  64238],\n",
       "       [    69,  21252],\n",
       "       [    33,  59764],\n",
       "       [    30,  97709],\n",
       "       [    67,  57441],\n",
       "       [    59, 112234],\n",
       "       [    47,  73682],\n",
       "       [    36,  79494],\n",
       "       [    34, 101317],\n",
       "       [    36,  85215],\n",
       "       [    45,  98587],\n",
       "       [    43, 125185],\n",
       "       [    54,  26949],\n",
       "       [    43, 127825],\n",
       "       [    70,  75393],\n",
       "       [    40,  93553],\n",
       "       [    26,  26941],\n",
       "       [    29,  45934]], dtype=int64)"
      ]
     },
     "execution_count": 7,
     "metadata": {},
     "output_type": "execute_result"
    }
   ],
   "source": [
    "X = np.array(df.drop(['id', 'pontuacao_gastos'], axis=1))\n",
    "X"
   ]
  },
  {
   "cell_type": "code",
   "execution_count": null,
   "metadata": {},
   "outputs": [],
   "source": []
  },
  {
   "cell_type": "markdown",
   "metadata": {},
   "source": [
    "# K-means"
   ]
  },
  {
   "cell_type": "code",
   "execution_count": 8,
   "metadata": {},
   "outputs": [
    {
     "name": "stderr",
     "output_type": "stream",
     "text": [
      "c:\\Users\\feh_s\\DSA_powerBI\\DSA_powerBI\\my_env\\Lib\\site-packages\\sklearn\\cluster\\_kmeans.py:1412: FutureWarning: The default value of `n_init` will change from 10 to 'auto' in 1.4. Set the value of `n_init` explicitly to suppress the warning\n",
      "  super()._check_params_vs_input(X, default_n_init=10)\n"
     ]
    },
    {
     "data": {
      "text/html": [
       "<style>#sk-container-id-1 {color: black;}#sk-container-id-1 pre{padding: 0;}#sk-container-id-1 div.sk-toggleable {background-color: white;}#sk-container-id-1 label.sk-toggleable__label {cursor: pointer;display: block;width: 100%;margin-bottom: 0;padding: 0.3em;box-sizing: border-box;text-align: center;}#sk-container-id-1 label.sk-toggleable__label-arrow:before {content: \"▸\";float: left;margin-right: 0.25em;color: #696969;}#sk-container-id-1 label.sk-toggleable__label-arrow:hover:before {color: black;}#sk-container-id-1 div.sk-estimator:hover label.sk-toggleable__label-arrow:before {color: black;}#sk-container-id-1 div.sk-toggleable__content {max-height: 0;max-width: 0;overflow: hidden;text-align: left;background-color: #f0f8ff;}#sk-container-id-1 div.sk-toggleable__content pre {margin: 0.2em;color: black;border-radius: 0.25em;background-color: #f0f8ff;}#sk-container-id-1 input.sk-toggleable__control:checked~div.sk-toggleable__content {max-height: 200px;max-width: 100%;overflow: auto;}#sk-container-id-1 input.sk-toggleable__control:checked~label.sk-toggleable__label-arrow:before {content: \"▾\";}#sk-container-id-1 div.sk-estimator input.sk-toggleable__control:checked~label.sk-toggleable__label {background-color: #d4ebff;}#sk-container-id-1 div.sk-label input.sk-toggleable__control:checked~label.sk-toggleable__label {background-color: #d4ebff;}#sk-container-id-1 input.sk-hidden--visually {border: 0;clip: rect(1px 1px 1px 1px);clip: rect(1px, 1px, 1px, 1px);height: 1px;margin: -1px;overflow: hidden;padding: 0;position: absolute;width: 1px;}#sk-container-id-1 div.sk-estimator {font-family: monospace;background-color: #f0f8ff;border: 1px dotted black;border-radius: 0.25em;box-sizing: border-box;margin-bottom: 0.5em;}#sk-container-id-1 div.sk-estimator:hover {background-color: #d4ebff;}#sk-container-id-1 div.sk-parallel-item::after {content: \"\";width: 100%;border-bottom: 1px solid gray;flex-grow: 1;}#sk-container-id-1 div.sk-label:hover label.sk-toggleable__label {background-color: #d4ebff;}#sk-container-id-1 div.sk-serial::before {content: \"\";position: absolute;border-left: 1px solid gray;box-sizing: border-box;top: 0;bottom: 0;left: 50%;z-index: 0;}#sk-container-id-1 div.sk-serial {display: flex;flex-direction: column;align-items: center;background-color: white;padding-right: 0.2em;padding-left: 0.2em;position: relative;}#sk-container-id-1 div.sk-item {position: relative;z-index: 1;}#sk-container-id-1 div.sk-parallel {display: flex;align-items: stretch;justify-content: center;background-color: white;position: relative;}#sk-container-id-1 div.sk-item::before, #sk-container-id-1 div.sk-parallel-item::before {content: \"\";position: absolute;border-left: 1px solid gray;box-sizing: border-box;top: 0;bottom: 0;left: 50%;z-index: -1;}#sk-container-id-1 div.sk-parallel-item {display: flex;flex-direction: column;z-index: 1;position: relative;background-color: white;}#sk-container-id-1 div.sk-parallel-item:first-child::after {align-self: flex-end;width: 50%;}#sk-container-id-1 div.sk-parallel-item:last-child::after {align-self: flex-start;width: 50%;}#sk-container-id-1 div.sk-parallel-item:only-child::after {width: 0;}#sk-container-id-1 div.sk-dashed-wrapped {border: 1px dashed gray;margin: 0 0.4em 0.5em 0.4em;box-sizing: border-box;padding-bottom: 0.4em;background-color: white;}#sk-container-id-1 div.sk-label label {font-family: monospace;font-weight: bold;display: inline-block;line-height: 1.2em;}#sk-container-id-1 div.sk-label-container {text-align: center;}#sk-container-id-1 div.sk-container {/* jupyter's `normalize.less` sets `[hidden] { display: none; }` but bootstrap.min.css set `[hidden] { display: none !important; }` so we also need the `!important` here to be able to override the default hidden behavior on the sphinx rendered scikit-learn.org. See: https://github.com/scikit-learn/scikit-learn/issues/21755 */display: inline-block !important;position: relative;}#sk-container-id-1 div.sk-text-repr-fallback {display: none;}</style><div id=\"sk-container-id-1\" class=\"sk-top-container\"><div class=\"sk-text-repr-fallback\"><pre>KMeans(n_clusters=3, random_state=42)</pre><b>In a Jupyter environment, please rerun this cell to show the HTML representation or trust the notebook. <br />On GitHub, the HTML representation is unable to render, please try loading this page with nbviewer.org.</b></div><div class=\"sk-container\" hidden><div class=\"sk-item\"><div class=\"sk-estimator sk-toggleable\"><input class=\"sk-toggleable__control sk-hidden--visually\" id=\"sk-estimator-id-1\" type=\"checkbox\" checked><label for=\"sk-estimator-id-1\" class=\"sk-toggleable__label sk-toggleable__label-arrow\">KMeans</label><div class=\"sk-toggleable__content\"><pre>KMeans(n_clusters=3, random_state=42)</pre></div></div></div></div></div>"
      ],
      "text/plain": [
       "KMeans(n_clusters=3, random_state=42)"
      ]
     },
     "execution_count": 8,
     "metadata": {},
     "output_type": "execute_result"
    }
   ],
   "source": [
    "from sklearn.cluster import KMeans\n",
    "\n",
    "kmeans = KMeans(n_clusters=3, random_state=42)\n",
    "kmeans.fit(X)"
   ]
  },
  {
   "cell_type": "code",
   "execution_count": 9,
   "metadata": {},
   "outputs": [
    {
     "data": {
      "text/plain": [
       "array([2, 1, 2, 1, 0, 1, 2, 0, 0, 1, 0, 2, 2, 1, 1, 0, 0, 2, 0, 0, 0, 1,\n",
       "       1, 2, 2, 1, 1, 2, 2, 0, 2, 1, 1, 2, 0, 2, 2, 2, 2, 1, 2, 2, 0, 1,\n",
       "       2, 1, 1, 0, 1, 1, 1, 2, 2, 2, 1, 0, 1, 0, 2, 1, 1, 2, 1, 0, 2, 0,\n",
       "       1, 1, 0, 2, 2, 0, 0, 0, 0, 2, 2, 1, 0, 1, 2, 1, 1, 2, 2, 0, 2, 2,\n",
       "       0, 0, 1, 0, 2, 1, 1, 1, 1, 1, 1, 0, 1, 2, 1, 1, 0, 1, 1, 0, 0, 0,\n",
       "       1, 1, 1, 1, 0, 1, 1, 0, 1, 1, 0, 2, 2, 2, 2, 1, 0, 0, 1, 1, 0, 0,\n",
       "       0, 0, 0, 1, 0, 2, 1, 1, 1, 2, 0, 0, 0, 2, 1, 1, 1, 1, 0, 0, 2, 2,\n",
       "       0, 2, 1, 0, 0, 2, 2, 0, 0, 2, 2, 1, 2, 0, 2, 1, 1, 0, 2, 2, 0, 2,\n",
       "       1, 2, 0, 2, 2, 0, 2, 2, 0, 0, 2, 0, 2, 1, 2, 2, 0, 2, 2, 0, 0, 1,\n",
       "       1, 1, 1, 1, 1, 0, 1, 1, 1, 2, 2, 0, 0, 1, 1, 0, 0, 0, 1, 1, 1, 0,\n",
       "       0, 0, 2, 1, 1, 0, 1, 2, 2, 0, 1, 1, 2, 2, 2, 0, 0, 2, 2, 0, 2, 1,\n",
       "       1, 0, 1, 1, 1, 1, 2, 0, 0, 0, 2, 0, 1, 1, 1, 2, 0, 0, 0, 1, 1, 0,\n",
       "       1, 0, 0, 2, 1, 1, 0, 1, 0, 2, 1, 1, 0, 2, 1, 0, 1, 0, 0, 1, 0, 2,\n",
       "       2, 0, 0, 2, 2, 2, 0, 1, 2, 2, 2, 1, 1, 0, 0, 0, 1, 1, 1, 1, 2, 0,\n",
       "       1, 1, 0, 0, 1, 1, 0, 1, 1, 2, 2, 0, 1, 1, 0, 0, 1, 1, 2, 0, 2, 0,\n",
       "       1, 2, 2, 1, 1, 1, 2, 0, 2, 0, 0, 2, 1, 0, 0, 0, 1, 1, 0, 2, 1, 0,\n",
       "       0, 2, 1, 2, 1, 1, 1, 0, 0, 0, 1, 1, 0, 0, 1, 2, 1, 1, 0, 2, 2, 2,\n",
       "       1, 0, 1, 1, 0, 0, 1, 1, 2, 0, 2, 2, 2, 2, 2, 1, 2, 1, 2, 0, 2, 1,\n",
       "       0, 0, 1, 2, 0, 1, 0, 1, 1, 1, 2, 0, 0, 2, 0, 0, 2, 1, 2, 0, 0, 2,\n",
       "       1, 0, 0, 0, 2, 2, 0, 0, 0, 2, 1, 0, 1, 2, 2, 0, 0, 2, 0, 0, 0, 2,\n",
       "       0, 1, 2, 1, 0, 0, 2, 2, 0, 2, 0, 2, 0, 2, 1, 1, 0, 1, 0, 1, 0, 1,\n",
       "       2, 2, 2, 2, 1, 0, 0, 2, 1, 2, 1, 1, 0, 0, 2, 1, 2, 0, 0, 0, 2, 0,\n",
       "       0, 2, 0, 1, 2, 2, 2, 2, 2, 1, 0, 1, 2, 2, 0, 0])"
      ]
     },
     "execution_count": 9,
     "metadata": {},
     "output_type": "execute_result"
    }
   ],
   "source": [
    "kmeans.labels_"
   ]
  },
  {
   "cell_type": "code",
   "execution_count": 10,
   "metadata": {},
   "outputs": [
    {
     "data": {
      "text/plain": [
       "<Axes: ylabel='Count'>"
      ]
     },
     "execution_count": 10,
     "metadata": {},
     "output_type": "execute_result"
    },
    {
     "data": {
      "image/png": "[encoded data removed]",
      "text/plain": [
       "<Figure size 640x480 with 1 Axes>"
      ]
     },
     "metadata": {},
     "output_type": "display_data"
    }
   ],
   "source": [
    "sns.histplot(kmeans.labels_, kde=False)"
   ]
  },
  {
   "cell_type": "code",
   "execution_count": 27,
   "metadata": {},
   "outputs": [
    {
     "name": "stdout",
     "output_type": "stream",
     "text": [
      "Elemento 0: 167 ocorrências\n",
      "Elemento 1: 187 ocorrências\n",
      "Elemento 2: 146 ocorrências\n"
     ]
    },
    {
     "data": {
      "text/plain": [
       "879.2470281358823"
      ]
     },
     "execution_count": 27,
     "metadata": {},
     "output_type": "execute_result"
    }
   ],
   "source": [
    "unique_elements, counts = np.unique(kmeans.labels_, return_counts=True)\n",
    "\n",
    "# Exibindo os resultados\n",
    "for element, count in zip(unique_elements, counts):\n",
    "    print(f\"Elemento {element}: {count} ocorrências\")\n",
    "\n",
    "\n",
    "kmeans.inertia_"
   ]
  },
  {
   "cell_type": "markdown",
   "metadata": {},
   "source": [
    "## KMeans dados padronizados"
   ]
  },
  {
   "cell_type": "code",
   "execution_count": 14,
   "metadata": {},
   "outputs": [],
   "source": [
    "# Cria o padronizador dos dados\n",
    "padronizador = StandardScaler()\n",
    "\n",
    "# Aplica o padronizador somente nas colunas de interesse\n",
    "dados_padronizados = padronizador.fit_transform(df[['idade', 'renda_anual', 'pontuacao_gastos']])"
   ]
  },
  {
   "cell_type": "code",
   "execution_count": 15,
   "metadata": {},
   "outputs": [
    {
     "name": "stderr",
     "output_type": "stream",
     "text": [
      "c:\\Users\\feh_s\\DSA_powerBI\\DSA_powerBI\\my_env\\Lib\\site-packages\\sklearn\\cluster\\_kmeans.py:1412: FutureWarning: The default value of `n_init` will change from 10 to 'auto' in 1.4. Set the value of `n_init` explicitly to suppress the warning\n",
      "  super()._check_params_vs_input(X, default_n_init=10)\n"
     ]
    },
    {
     "data": {
      "text/html": [
       "<style>#sk-container-id-2 {color: black;}#sk-container-id-2 pre{padding: 0;}#sk-container-id-2 div.sk-toggleable {background-color: white;}#sk-container-id-2 label.sk-toggleable__label {cursor: pointer;display: block;width: 100%;margin-bottom: 0;padding: 0.3em;box-sizing: border-box;text-align: center;}#sk-container-id-2 label.sk-toggleable__label-arrow:before {content: \"▸\";float: left;margin-right: 0.25em;color: #696969;}#sk-container-id-2 label.sk-toggleable__label-arrow:hover:before {color: black;}#sk-container-id-2 div.sk-estimator:hover label.sk-toggleable__label-arrow:before {color: black;}#sk-container-id-2 div.sk-toggleable__content {max-height: 0;max-width: 0;overflow: hidden;text-align: left;background-color: #f0f8ff;}#sk-container-id-2 div.sk-toggleable__content pre {margin: 0.2em;color: black;border-radius: 0.25em;background-color: #f0f8ff;}#sk-container-id-2 input.sk-toggleable__control:checked~div.sk-toggleable__content {max-height: 200px;max-width: 100%;overflow: auto;}#sk-container-id-2 input.sk-toggleable__control:checked~label.sk-toggleable__label-arrow:before {content: \"▾\";}#sk-container-id-2 div.sk-estimator input.sk-toggleable__control:checked~label.sk-toggleable__label {background-color: #d4ebff;}#sk-container-id-2 div.sk-label input.sk-toggleable__control:checked~label.sk-toggleable__label {background-color: #d4ebff;}#sk-container-id-2 input.sk-hidden--visually {border: 0;clip: rect(1px 1px 1px 1px);clip: rect(1px, 1px, 1px, 1px);height: 1px;margin: -1px;overflow: hidden;padding: 0;position: absolute;width: 1px;}#sk-container-id-2 div.sk-estimator {font-family: monospace;background-color: #f0f8ff;border: 1px dotted black;border-radius: 0.25em;box-sizing: border-box;margin-bottom: 0.5em;}#sk-container-id-2 div.sk-estimator:hover {background-color: #d4ebff;}#sk-container-id-2 div.sk-parallel-item::after {content: \"\";width: 100%;border-bottom: 1px solid gray;flex-grow: 1;}#sk-container-id-2 div.sk-label:hover label.sk-toggleable__label {background-color: #d4ebff;}#sk-container-id-2 div.sk-serial::before {content: \"\";position: absolute;border-left: 1px solid gray;box-sizing: border-box;top: 0;bottom: 0;left: 50%;z-index: 0;}#sk-container-id-2 div.sk-serial {display: flex;flex-direction: column;align-items: center;background-color: white;padding-right: 0.2em;padding-left: 0.2em;position: relative;}#sk-container-id-2 div.sk-item {position: relative;z-index: 1;}#sk-container-id-2 div.sk-parallel {display: flex;align-items: stretch;justify-content: center;background-color: white;position: relative;}#sk-container-id-2 div.sk-item::before, #sk-container-id-2 div.sk-parallel-item::before {content: \"\";position: absolute;border-left: 1px solid gray;box-sizing: border-box;top: 0;bottom: 0;left: 50%;z-index: -1;}#sk-container-id-2 div.sk-parallel-item {display: flex;flex-direction: column;z-index: 1;position: relative;background-color: white;}#sk-container-id-2 div.sk-parallel-item:first-child::after {align-self: flex-end;width: 50%;}#sk-container-id-2 div.sk-parallel-item:last-child::after {align-self: flex-start;width: 50%;}#sk-container-id-2 div.sk-parallel-item:only-child::after {width: 0;}#sk-container-id-2 div.sk-dashed-wrapped {border: 1px dashed gray;margin: 0 0.4em 0.5em 0.4em;box-sizing: border-box;padding-bottom: 0.4em;background-color: white;}#sk-container-id-2 div.sk-label label {font-family: monospace;font-weight: bold;display: inline-block;line-height: 1.2em;}#sk-container-id-2 div.sk-label-container {text-align: center;}#sk-container-id-2 div.sk-container {/* jupyter's `normalize.less` sets `[hidden] { display: none; }` but bootstrap.min.css set `[hidden] { display: none !important; }` so we also need the `!important` here to be able to override the default hidden behavior on the sphinx rendered scikit-learn.org. See: https://github.com/scikit-learn/scikit-learn/issues/21755 */display: inline-block !important;position: relative;}#sk-container-id-2 div.sk-text-repr-fallback {display: none;}</style><div id=\"sk-container-id-2\" class=\"sk-top-container\"><div class=\"sk-text-repr-fallback\"><pre>KMeans(n_clusters=3, random_state=42)</pre><b>In a Jupyter environment, please rerun this cell to show the HTML representation or trust the notebook. <br />On GitHub, the HTML representation is unable to render, please try loading this page with nbviewer.org.</b></div><div class=\"sk-container\" hidden><div class=\"sk-item\"><div class=\"sk-estimator sk-toggleable\"><input class=\"sk-toggleable__control sk-hidden--visually\" id=\"sk-estimator-id-2\" type=\"checkbox\" checked><label for=\"sk-estimator-id-2\" class=\"sk-toggleable__label sk-toggleable__label-arrow\">KMeans</label><div class=\"sk-toggleable__content\"><pre>KMeans(n_clusters=3, random_state=42)</pre></div></div></div></div></div>"
      ],
      "text/plain": [
       "KMeans(n_clusters=3, random_state=42)"
      ]
     },
     "execution_count": 15,
     "metadata": {},
     "output_type": "execute_result"
    }
   ],
   "source": [
    "kmeans = KMeans(n_clusters=3, random_state=42)\n",
    "kmeans.fit(dados_padronizados)"
   ]
  },
  {
   "cell_type": "code",
   "execution_count": 16,
   "metadata": {},
   "outputs": [
    {
     "name": "stdout",
     "output_type": "stream",
     "text": [
      "Elemento 0: 167 ocorrências\n",
      "Elemento 1: 187 ocorrências\n",
      "Elemento 2: 146 ocorrências\n"
     ]
    }
   ],
   "source": [
    "unique_elements, counts = np.unique(kmeans.labels_, return_counts=True)\n",
    "\n",
    "# Exibindo os resultados\n",
    "for element, count in zip(unique_elements, counts):\n",
    "    print(f\"Elemento {element}: {count} ocorrências\")"
   ]
  },
  {
   "cell_type": "code",
   "execution_count": 17,
   "metadata": {},
   "outputs": [
    {
     "data": {
      "text/plain": [
       "<Axes: ylabel='Count'>"
      ]
     },
     "execution_count": 17,
     "metadata": {},
     "output_type": "execute_result"
    },
    {
     "data": {
      "image/png": "[encoded data removed]",
      "text/plain": [
       "<Figure size 640x480 with 1 Axes>"
      ]
     },
     "metadata": {},
     "output_type": "display_data"
    }
   ],
   "source": [
    "sns.histplot(kmeans.labels_, kde=False)"
   ]
  },
  {
   "cell_type": "markdown",
   "metadata": {},
   "source": [
    "## K-means plus plus"
   ]
  },
  {
   "cell_type": "code",
   "execution_count": 28,
   "metadata": {},
   "outputs": [
    {
     "name": "stdout",
     "output_type": "stream",
     "text": [
      "Elemento 0: 167 ocorrências\n",
      "Elemento 1: 187 ocorrências\n",
      "Elemento 2: 146 ocorrências\n"
     ]
    },
    {
     "name": "stderr",
     "output_type": "stream",
     "text": [
      "c:\\Users\\feh_s\\DSA_powerBI\\DSA_powerBI\\my_env\\Lib\\site-packages\\sklearn\\cluster\\_kmeans.py:1412: FutureWarning: The default value of `n_init` will change from 10 to 'auto' in 1.4. Set the value of `n_init` explicitly to suppress the warning\n",
      "  super()._check_params_vs_input(X, default_n_init=10)\n",
      "c:\\Users\\feh_s\\DSA_powerBI\\DSA_powerBI\\my_env\\Lib\\site-packages\\sklearn\\cluster\\_kmeans.py:1416: FutureWarning: algorithm='full' is deprecated, it will be removed in 1.3. Using 'lloyd' instead.\n",
      "  warnings.warn(\n"
     ]
    },
    {
     "data": {
      "text/plain": [
       "3"
      ]
     },
     "execution_count": 28,
     "metadata": {},
     "output_type": "execute_result"
    }
   ],
   "source": [
    "# Esse dataset é meio ruim pq não consigo mensurar \n",
    "# Dá o mesmo valor usando ou não usando o k-means++\n",
    "kmeans = KMeans(n_clusters=3, random_state=42, init='k-means++', algorithm='full')\n",
    "kmeans.fit(dados_padronizados)\n",
    "\n",
    "unique_elements, counts = np.unique(kmeans.labels_, return_counts=True)\n",
    "\n",
    "# Exibindo os resultados\n",
    "for element, count in zip(unique_elements, counts):\n",
    "    print(f\"Elemento {element}: {count} ocorrências\")\n",
    "\n",
    "kmeans.n_features_in_"
   ]
  },
  {
   "cell_type": "code",
   "execution_count": null,
   "metadata": {},
   "outputs": [],
   "source": []
  }
 ],
 "metadata": {
  "kernelspec": {
   "display_name": "dsa_kernel",
   "language": "python",
   "name": "dsa_kernel"
  },
  "language_info": {
   "codemirror_mode": {
    "name": "ipython",
    "version": 3
   },
   "file_extension": ".py",
   "mimetype": "text/x-python",
   "name": "python",
   "nbconvert_exporter": "python",
   "pygments_lexer": "ipython3",
   "version": "3.11.2"
  },
  "orig_nbformat": 4
 },
 "nbformat": 4,
 "nbformat_minor": 2
}
